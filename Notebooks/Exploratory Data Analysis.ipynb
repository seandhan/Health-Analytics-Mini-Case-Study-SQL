{
 "cells": [
  {
   "cell_type": "markdown",
   "id": "a201aba5",
   "metadata": {},
   "source": [
    "# 1. Exploratory Data Analysis"
   ]
  },
  {
   "cell_type": "markdown",
   "id": "73c360e5",
   "metadata": {},
   "source": [
    "---"
   ]
  },
  {
   "cell_type": "markdown",
   "id": "733f12ed",
   "metadata": {},
   "source": [
    "<span style = \"font-family: Arial; font-weight:bold;font-size:2em;color:black;\">Importing Libraries"
   ]
  },
  {
   "cell_type": "code",
   "execution_count": 1,
   "id": "f8278eda",
   "metadata": {},
   "outputs": [],
   "source": [
    "import pyodbc\n",
    "import pandas as pd\n",
    "import warnings\n",
    "\n",
    "warnings.filterwarnings('ignore')"
   ]
  },
  {
   "cell_type": "markdown",
   "id": "2f045a49",
   "metadata": {},
   "source": [
    "<span style = \"font-family: Arial; font-weight:bold;font-size:2em;color:black;\">Database connection"
   ]
  },
  {
   "cell_type": "code",
   "execution_count": 2,
   "id": "462fe216",
   "metadata": {
    "scrolled": true
   },
   "outputs": [
    {
     "name": "stdout",
     "output_type": "stream",
     "text": [
      "Connected to SQL database Server: SeanSD\\SQLEXPRESS \n",
      "Database: health\n"
     ]
    }
   ],
   "source": [
    "# Define your MSSQL server connection parameters\n",
    "Server   = \"SeanSD\\SQLEXPRESS\"\n",
    "Database = \"health\"\n",
    "UID      = \"\"\n",
    "PWD      = \"\"\n",
    "\n",
    "connection_str = (\"Driver={SQL Server Native Client 11.0};\"\n",
    "                  \"Server=\" + Server + \";\"\n",
    "                  \"Database=\" + Database + \";\"\n",
    "                  \"Trusted_Connection=yes;\")\n",
    "\n",
    "try:\n",
    "    connection = pyodbc.connect(connection_str)\n",
    "    print (\"Connected to SQL database Server:\", Server, \"\\nDatabase: \" + Database)\n",
    "except pyodbc.Error as ex:\n",
    "    sqlstate = ex.args[1]\n",
    "    print (\"Unable to connect: \", sqlstate)"
   ]
  },
  {
   "cell_type": "markdown",
   "id": "d95d4ebd",
   "metadata": {},
   "source": [
    "---"
   ]
  },
  {
   "cell_type": "markdown",
   "id": "05eb02b1",
   "metadata": {},
   "source": [
    "## A look at the dataset"
   ]
  },
  {
   "cell_type": "markdown",
   "id": "0b85f78e",
   "metadata": {},
   "source": [
    "Let's take a look at the first 10 rows from the `user_logs` table."
   ]
  },
  {
   "cell_type": "code",
   "execution_count": 3,
   "id": "72500db6",
   "metadata": {
    "scrolled": true
   },
   "outputs": [
    {
     "data": {
      "text/html": [
       "<div>\n",
       "<style scoped>\n",
       "    .dataframe tbody tr th:only-of-type {\n",
       "        vertical-align: middle;\n",
       "    }\n",
       "\n",
       "    .dataframe tbody tr th {\n",
       "        vertical-align: top;\n",
       "    }\n",
       "\n",
       "    .dataframe thead th {\n",
       "        text-align: right;\n",
       "    }\n",
       "</style>\n",
       "<table border=\"1\" class=\"dataframe\">\n",
       "  <thead>\n",
       "    <tr style=\"text-align: right;\">\n",
       "      <th></th>\n",
       "      <th>id</th>\n",
       "      <th>log_date</th>\n",
       "      <th>measure</th>\n",
       "      <th>measure_value</th>\n",
       "      <th>systolic</th>\n",
       "      <th>diastolic</th>\n",
       "    </tr>\n",
       "  </thead>\n",
       "  <tbody>\n",
       "    <tr>\n",
       "      <th>0</th>\n",
       "      <td>fa28f948a740320ad56b81a24744c8b81df119fa</td>\n",
       "      <td>2020-11-15</td>\n",
       "      <td>weight</td>\n",
       "      <td>46.039590</td>\n",
       "      <td>NaN</td>\n",
       "      <td>NaN</td>\n",
       "    </tr>\n",
       "    <tr>\n",
       "      <th>1</th>\n",
       "      <td>1a7366eef15512d8f38133e7ce9778bce5b4a21e</td>\n",
       "      <td>2020-10-10</td>\n",
       "      <td>blood_glucose</td>\n",
       "      <td>97.000000</td>\n",
       "      <td>0.0</td>\n",
       "      <td>0.0</td>\n",
       "    </tr>\n",
       "    <tr>\n",
       "      <th>2</th>\n",
       "      <td>bd7eece38fb4ec71b3282d60080d296c4cf6ad5e</td>\n",
       "      <td>2020-10-18</td>\n",
       "      <td>blood_glucose</td>\n",
       "      <td>120.000000</td>\n",
       "      <td>0.0</td>\n",
       "      <td>0.0</td>\n",
       "    </tr>\n",
       "    <tr>\n",
       "      <th>3</th>\n",
       "      <td>0f7b13f3f0512e6546b8d2c0d56e564a2408536a</td>\n",
       "      <td>2020-10-17</td>\n",
       "      <td>blood_glucose</td>\n",
       "      <td>232.000000</td>\n",
       "      <td>0.0</td>\n",
       "      <td>0.0</td>\n",
       "    </tr>\n",
       "    <tr>\n",
       "      <th>4</th>\n",
       "      <td>d14df0c8c1a5f172476b2a1b1f53cf23c6992027</td>\n",
       "      <td>2020-10-15</td>\n",
       "      <td>blood_pressure</td>\n",
       "      <td>140.000000</td>\n",
       "      <td>140.0</td>\n",
       "      <td>113.0</td>\n",
       "    </tr>\n",
       "    <tr>\n",
       "      <th>5</th>\n",
       "      <td>0f7b13f3f0512e6546b8d2c0d56e564a2408536a</td>\n",
       "      <td>2020-10-21</td>\n",
       "      <td>blood_glucose</td>\n",
       "      <td>166.000000</td>\n",
       "      <td>0.0</td>\n",
       "      <td>0.0</td>\n",
       "    </tr>\n",
       "    <tr>\n",
       "      <th>6</th>\n",
       "      <td>0f7b13f3f0512e6546b8d2c0d56e564a2408536a</td>\n",
       "      <td>2020-10-22</td>\n",
       "      <td>blood_glucose</td>\n",
       "      <td>142.000000</td>\n",
       "      <td>0.0</td>\n",
       "      <td>0.0</td>\n",
       "    </tr>\n",
       "    <tr>\n",
       "      <th>7</th>\n",
       "      <td>87be2f14a5550389cb2cba03b3329c54c993f7d2</td>\n",
       "      <td>2020-10-12</td>\n",
       "      <td>weight</td>\n",
       "      <td>129.060013</td>\n",
       "      <td>0.0</td>\n",
       "      <td>0.0</td>\n",
       "    </tr>\n",
       "    <tr>\n",
       "      <th>8</th>\n",
       "      <td>0efe1f378aec122877e5f24f204ea70709b1f5f8</td>\n",
       "      <td>2020-10-07</td>\n",
       "      <td>blood_glucose</td>\n",
       "      <td>138.000000</td>\n",
       "      <td>0.0</td>\n",
       "      <td>0.0</td>\n",
       "    </tr>\n",
       "    <tr>\n",
       "      <th>9</th>\n",
       "      <td>054250c692e07a9fa9e62e345231df4b54ff435d</td>\n",
       "      <td>2020-10-04</td>\n",
       "      <td>blood_glucose</td>\n",
       "      <td>210.000000</td>\n",
       "      <td>NaN</td>\n",
       "      <td>NaN</td>\n",
       "    </tr>\n",
       "  </tbody>\n",
       "</table>\n",
       "</div>"
      ],
      "text/plain": [
       "                                         id   log_date         measure  \\\n",
       "0  fa28f948a740320ad56b81a24744c8b81df119fa 2020-11-15          weight   \n",
       "1  1a7366eef15512d8f38133e7ce9778bce5b4a21e 2020-10-10   blood_glucose   \n",
       "2  bd7eece38fb4ec71b3282d60080d296c4cf6ad5e 2020-10-18   blood_glucose   \n",
       "3  0f7b13f3f0512e6546b8d2c0d56e564a2408536a 2020-10-17   blood_glucose   \n",
       "4  d14df0c8c1a5f172476b2a1b1f53cf23c6992027 2020-10-15  blood_pressure   \n",
       "5  0f7b13f3f0512e6546b8d2c0d56e564a2408536a 2020-10-21   blood_glucose   \n",
       "6  0f7b13f3f0512e6546b8d2c0d56e564a2408536a 2020-10-22   blood_glucose   \n",
       "7  87be2f14a5550389cb2cba03b3329c54c993f7d2 2020-10-12          weight   \n",
       "8  0efe1f378aec122877e5f24f204ea70709b1f5f8 2020-10-07   blood_glucose   \n",
       "9  054250c692e07a9fa9e62e345231df4b54ff435d 2020-10-04   blood_glucose   \n",
       "\n",
       "   measure_value  systolic  diastolic  \n",
       "0      46.039590       NaN        NaN  \n",
       "1      97.000000       0.0        0.0  \n",
       "2     120.000000       0.0        0.0  \n",
       "3     232.000000       0.0        0.0  \n",
       "4     140.000000     140.0      113.0  \n",
       "5     166.000000       0.0        0.0  \n",
       "6     142.000000       0.0        0.0  \n",
       "7     129.060013       0.0        0.0  \n",
       "8     138.000000       0.0        0.0  \n",
       "9     210.000000       NaN        NaN  "
      ]
     },
     "execution_count": 3,
     "metadata": {},
     "output_type": "execute_result"
    }
   ],
   "source": [
    "query_str = \"\"\"\n",
    "SELECT TOP (10) *\n",
    "FROM user_logs;\n",
    "\"\"\"\n",
    "pd.read_sql(query_str, connection)"
   ]
  },
  {
   "cell_type": "markdown",
   "id": "907263aa",
   "metadata": {},
   "source": [
    "## Unique measures"
   ]
  },
  {
   "cell_type": "code",
   "execution_count": 4,
   "id": "59707a20",
   "metadata": {
    "scrolled": true
   },
   "outputs": [
    {
     "data": {
      "text/html": [
       "<div>\n",
       "<style scoped>\n",
       "    .dataframe tbody tr th:only-of-type {\n",
       "        vertical-align: middle;\n",
       "    }\n",
       "\n",
       "    .dataframe tbody tr th {\n",
       "        vertical-align: top;\n",
       "    }\n",
       "\n",
       "    .dataframe thead th {\n",
       "        text-align: right;\n",
       "    }\n",
       "</style>\n",
       "<table border=\"1\" class=\"dataframe\">\n",
       "  <thead>\n",
       "    <tr style=\"text-align: right;\">\n",
       "      <th></th>\n",
       "      <th>measure</th>\n",
       "    </tr>\n",
       "  </thead>\n",
       "  <tbody>\n",
       "    <tr>\n",
       "      <th>0</th>\n",
       "      <td>weight</td>\n",
       "    </tr>\n",
       "    <tr>\n",
       "      <th>1</th>\n",
       "      <td>blood_pressure</td>\n",
       "    </tr>\n",
       "    <tr>\n",
       "      <th>2</th>\n",
       "      <td>blood_glucose</td>\n",
       "    </tr>\n",
       "  </tbody>\n",
       "</table>\n",
       "</div>"
      ],
      "text/plain": [
       "          measure\n",
       "0          weight\n",
       "1  blood_pressure\n",
       "2   blood_glucose"
      ]
     },
     "execution_count": 4,
     "metadata": {},
     "output_type": "execute_result"
    }
   ],
   "source": [
    "query_str = \"\"\"SELECT DISTINCT measure FROM user_logs;\"\"\"\n",
    "\n",
    "pd.read_sql(query_str, connection)"
   ]
  },
  {
   "cell_type": "markdown",
   "id": "8b614b63",
   "metadata": {},
   "source": [
    "## Structure Summary"
   ]
  },
  {
   "cell_type": "code",
   "execution_count": 5,
   "id": "cde36ed0",
   "metadata": {
    "scrolled": true
   },
   "outputs": [
    {
     "name": "stdout",
     "output_type": "stream",
     "text": [
      "Table: \u001b[1muser_logs\u001b[0m\n",
      "\n",
      "Columns: \u001b[1m6\u001b[0m\n",
      "Rows: \u001b[1m43891\u001b[0m\n",
      "\n",
      "\tColumn: \u001b[1mid\u001b[0m (nvarchar)\n",
      "\tColumn: \u001b[1mlog_date\u001b[0m (datetime)\n",
      "\tColumn: \u001b[1mmeasure\u001b[0m (nvarchar)\n",
      "\tColumn: \u001b[1mmeasure_value\u001b[0m (float)\n",
      "\tColumn: \u001b[1msystolic\u001b[0m (float)\n",
      "\tColumn: \u001b[1mdiastolic\u001b[0m (float)\n",
      "\n",
      "Columns with Missing Values in user_logs:\n",
      "\t\u001b[1msystolic\u001b[0m 26023\n",
      "\t\u001b[1mdiastolic\u001b[0m 26023\n"
     ]
    }
   ],
   "source": [
    "# Table you want to examine\n",
    "table_name = 'user_logs'\n",
    "\n",
    "# Get column information for the specific table\n",
    "cursor = connection.cursor()\n",
    "columns_query = f\"\"\"\n",
    "SELECT COLUMN_NAME, DATA_TYPE\n",
    "FROM information_schema.columns\n",
    "WHERE table_name = '{table_name}'\n",
    "\"\"\"\n",
    "cursor.execute(columns_query)\n",
    "columns = cursor.fetchall()\n",
    "\n",
    "# Get row count for the specific table\n",
    "row_count_query = f\"\"\"\n",
    "SELECT COUNT(*) FROM {table_name}\n",
    "\"\"\"\n",
    "cursor.execute(row_count_query)\n",
    "row_count = cursor.fetchone()[0]\n",
    "\n",
    "print(f\"Table: \\033[1m{table_name}\\033[0m\\n\")\n",
    "print(f\"Columns: \\033[1m{len(columns)}\\033[0m\")\n",
    "print(f\"Rows: \\033[1m{row_count}\\033[0m\\n\")\n",
    "\n",
    "# Display column information\n",
    "for column in columns:\n",
    "    column_name, data_type = column\n",
    "    print(f\"\\tColumn: \\033[1m{column_name}\\033[0m ({data_type})\")\n",
    "\n",
    "# Initialize a dictionary to store the count of missing values for each column\n",
    "missing_value_counts = {}\n",
    "\n",
    "# Loop through the columns and calculate the count of missing values\n",
    "for column in columns:\n",
    "    column_name = column.COLUMN_NAME\n",
    "    missing_value_query = f\"\"\"\n",
    "    SELECT COUNT(*) FROM {table_name}\n",
    "    WHERE {column_name} IS NULL\n",
    "    \"\"\"\n",
    "    cursor.execute(missing_value_query)\n",
    "    missing_value_count = cursor.fetchone()[0]\n",
    "    if missing_value_count > 0:\n",
    "        missing_value_counts[column_name] = missing_value_count\n",
    "\n",
    "# Display the columns with missing values\n",
    "print(f\"\\nColumns with Missing Values in {table_name}:\")\n",
    "for column_name, missing_count in missing_value_counts.items():\n",
    "    print(f\"\\t\\033[1m{column_name}\\033[0m {missing_count}\")\n",
    "    \n",
    "# Close the cursor\n",
    "cursor.close()\n"
   ]
  },
  {
   "cell_type": "markdown",
   "id": "f0a72980",
   "metadata": {},
   "source": [
    "## Total record count"
   ]
  },
  {
   "cell_type": "markdown",
   "id": "5822ced2",
   "metadata": {},
   "source": [
    "Let's also take a look at the total record count."
   ]
  },
  {
   "cell_type": "code",
   "execution_count": 6,
   "id": "51857745",
   "metadata": {},
   "outputs": [
    {
     "data": {
      "text/html": [
       "<div>\n",
       "<style scoped>\n",
       "    .dataframe tbody tr th:only-of-type {\n",
       "        vertical-align: middle;\n",
       "    }\n",
       "\n",
       "    .dataframe tbody tr th {\n",
       "        vertical-align: top;\n",
       "    }\n",
       "\n",
       "    .dataframe thead th {\n",
       "        text-align: right;\n",
       "    }\n",
       "</style>\n",
       "<table border=\"1\" class=\"dataframe\">\n",
       "  <thead>\n",
       "    <tr style=\"text-align: right;\">\n",
       "      <th></th>\n",
       "      <th>count</th>\n",
       "    </tr>\n",
       "  </thead>\n",
       "  <tbody>\n",
       "    <tr>\n",
       "      <th>0</th>\n",
       "      <td>43891</td>\n",
       "    </tr>\n",
       "  </tbody>\n",
       "</table>\n",
       "</div>"
      ],
      "text/plain": [
       "   count\n",
       "0  43891"
      ]
     },
     "execution_count": 6,
     "metadata": {},
     "output_type": "execute_result"
    }
   ],
   "source": [
    "query_str = \"\"\"\n",
    "SELECT \n",
    "  COUNT(*) AS 'count'\n",
    "FROM user_logs;\n",
    "\"\"\"\n",
    "pd.read_sql(query_str, connection)"
   ]
  },
  {
   "cell_type": "markdown",
   "id": "bb32897f",
   "metadata": {},
   "source": [
    "## Unique column count"
   ]
  },
  {
   "cell_type": "markdown",
   "id": "3b449dd9",
   "metadata": {},
   "source": [
    "We'll take a look at how many unique id's are present in the dataset. That'll give us a count of the total number of users."
   ]
  },
  {
   "cell_type": "code",
   "execution_count": 7,
   "id": "a7b996ba",
   "metadata": {},
   "outputs": [
    {
     "data": {
      "text/html": [
       "<div>\n",
       "<style scoped>\n",
       "    .dataframe tbody tr th:only-of-type {\n",
       "        vertical-align: middle;\n",
       "    }\n",
       "\n",
       "    .dataframe tbody tr th {\n",
       "        vertical-align: top;\n",
       "    }\n",
       "\n",
       "    .dataframe thead th {\n",
       "        text-align: right;\n",
       "    }\n",
       "</style>\n",
       "<table border=\"1\" class=\"dataframe\">\n",
       "  <thead>\n",
       "    <tr style=\"text-align: right;\">\n",
       "      <th></th>\n",
       "      <th>count</th>\n",
       "    </tr>\n",
       "  </thead>\n",
       "  <tbody>\n",
       "    <tr>\n",
       "      <th>0</th>\n",
       "      <td>554</td>\n",
       "    </tr>\n",
       "  </tbody>\n",
       "</table>\n",
       "</div>"
      ],
      "text/plain": [
       "   count\n",
       "0    554"
      ]
     },
     "execution_count": 7,
     "metadata": {},
     "output_type": "execute_result"
    }
   ],
   "source": [
    "query_str = \"\"\"\n",
    "SELECT COUNT(DISTINCT id) AS 'count'\n",
    "FROM user_logs;\n",
    "\"\"\"\n",
    "pd.read_sql(query_str, connection)"
   ]
  },
  {
   "cell_type": "markdown",
   "id": "4c252adf",
   "metadata": {},
   "source": [
    "## Single column frequency counts"
   ]
  },
  {
   "cell_type": "markdown",
   "id": "92a111b6",
   "metadata": {},
   "source": [
    "Let's take a look at the measure column and see frequency and the percentage count of each value across the table."
   ]
  },
  {
   "cell_type": "code",
   "execution_count": 8,
   "id": "1f999cb7",
   "metadata": {},
   "outputs": [
    {
     "data": {
      "text/html": [
       "<div>\n",
       "<style scoped>\n",
       "    .dataframe tbody tr th:only-of-type {\n",
       "        vertical-align: middle;\n",
       "    }\n",
       "\n",
       "    .dataframe tbody tr th {\n",
       "        vertical-align: top;\n",
       "    }\n",
       "\n",
       "    .dataframe thead th {\n",
       "        text-align: right;\n",
       "    }\n",
       "</style>\n",
       "<table border=\"1\" class=\"dataframe\">\n",
       "  <thead>\n",
       "    <tr style=\"text-align: right;\">\n",
       "      <th></th>\n",
       "      <th>measure</th>\n",
       "      <th>frequency</th>\n",
       "      <th>percentage</th>\n",
       "    </tr>\n",
       "  </thead>\n",
       "  <tbody>\n",
       "    <tr>\n",
       "      <th>0</th>\n",
       "      <td>blood_glucose</td>\n",
       "      <td>38692</td>\n",
       "      <td>88.15</td>\n",
       "    </tr>\n",
       "    <tr>\n",
       "      <th>1</th>\n",
       "      <td>weight</td>\n",
       "      <td>2782</td>\n",
       "      <td>6.34</td>\n",
       "    </tr>\n",
       "    <tr>\n",
       "      <th>2</th>\n",
       "      <td>blood_pressure</td>\n",
       "      <td>2417</td>\n",
       "      <td>5.51</td>\n",
       "    </tr>\n",
       "  </tbody>\n",
       "</table>\n",
       "</div>"
      ],
      "text/plain": [
       "          measure  frequency  percentage\n",
       "0   blood_glucose      38692       88.15\n",
       "1          weight       2782        6.34\n",
       "2  blood_pressure       2417        5.51"
      ]
     },
     "execution_count": 8,
     "metadata": {},
     "output_type": "execute_result"
    }
   ],
   "source": [
    "query_str = \"\"\"\n",
    "SELECT \n",
    "  measure,\n",
    "  COUNT(*) AS frequency,\n",
    "  ROUND(100.0* COUNT(*)/SUM(COUNT(*)) OVER(), 2) AS percentage\n",
    "FROM user_logs\n",
    "GROUP BY measure\n",
    "ORDER BY frequency DESC;\n",
    "\"\"\"\n",
    "pd.read_sql(query_str, connection)"
   ]
  },
  {
   "cell_type": "markdown",
   "id": "0c2f82de",
   "metadata": {},
   "source": [
    "Let's also see the frequency of unique id's that appear in the dataset and limit the output to just 5."
   ]
  },
  {
   "cell_type": "code",
   "execution_count": 9,
   "id": "6903418f",
   "metadata": {},
   "outputs": [
    {
     "data": {
      "text/html": [
       "<div>\n",
       "<style scoped>\n",
       "    .dataframe tbody tr th:only-of-type {\n",
       "        vertical-align: middle;\n",
       "    }\n",
       "\n",
       "    .dataframe tbody tr th {\n",
       "        vertical-align: top;\n",
       "    }\n",
       "\n",
       "    .dataframe thead th {\n",
       "        text-align: right;\n",
       "    }\n",
       "</style>\n",
       "<table border=\"1\" class=\"dataframe\">\n",
       "  <thead>\n",
       "    <tr style=\"text-align: right;\">\n",
       "      <th></th>\n",
       "      <th>id</th>\n",
       "      <th>frequency</th>\n",
       "      <th>percentage</th>\n",
       "    </tr>\n",
       "  </thead>\n",
       "  <tbody>\n",
       "    <tr>\n",
       "      <th>0</th>\n",
       "      <td>054250c692e07a9fa9e62e345231df4b54ff435d</td>\n",
       "      <td>22325</td>\n",
       "      <td>50.86</td>\n",
       "    </tr>\n",
       "    <tr>\n",
       "      <th>1</th>\n",
       "      <td>0f7b13f3f0512e6546b8d2c0d56e564a2408536a</td>\n",
       "      <td>1589</td>\n",
       "      <td>3.62</td>\n",
       "    </tr>\n",
       "    <tr>\n",
       "      <th>2</th>\n",
       "      <td>ee653a96022cc3878e76d196b1667d95beca2db6</td>\n",
       "      <td>1235</td>\n",
       "      <td>2.81</td>\n",
       "    </tr>\n",
       "    <tr>\n",
       "      <th>3</th>\n",
       "      <td>abc634a555bbba7d6d6584171fdfa206ebf6c9a0</td>\n",
       "      <td>1212</td>\n",
       "      <td>2.76</td>\n",
       "    </tr>\n",
       "    <tr>\n",
       "      <th>4</th>\n",
       "      <td>576fdb528e5004f733912fae3020e7d322dbc31a</td>\n",
       "      <td>1018</td>\n",
       "      <td>2.32</td>\n",
       "    </tr>\n",
       "  </tbody>\n",
       "</table>\n",
       "</div>"
      ],
      "text/plain": [
       "                                         id  frequency  percentage\n",
       "0  054250c692e07a9fa9e62e345231df4b54ff435d      22325       50.86\n",
       "1  0f7b13f3f0512e6546b8d2c0d56e564a2408536a       1589        3.62\n",
       "2  ee653a96022cc3878e76d196b1667d95beca2db6       1235        2.81\n",
       "3  abc634a555bbba7d6d6584171fdfa206ebf6c9a0       1212        2.76\n",
       "4  576fdb528e5004f733912fae3020e7d322dbc31a       1018        2.32"
      ]
     },
     "execution_count": 9,
     "metadata": {},
     "output_type": "execute_result"
    }
   ],
   "source": [
    "query_str = \"\"\"\n",
    "SELECT TOP (5)\n",
    "  id,\n",
    "  COUNT(*) AS frequency,\n",
    "  ROUND(100.0* COUNT(*)/SUM(COUNT(*)) OVER(),\n",
    "  2) AS percentage\n",
    "FROM user_logs\n",
    "GROUP BY id\n",
    "ORDER BY frequency DESC;\n",
    "\"\"\"\n",
    "pd.read_sql(query_str, connection)"
   ]
  },
  {
   "cell_type": "markdown",
   "id": "8e133cf9",
   "metadata": {},
   "source": [
    "## Individual column distribution"
   ]
  },
  {
   "cell_type": "markdown",
   "id": "5bbda5a9",
   "metadata": {},
   "source": [
    "Let's now take a look at the most frequent values across each column."
   ]
  },
  {
   "cell_type": "markdown",
   "id": "8d48132e",
   "metadata": {},
   "source": [
    "`Measure Value Column`"
   ]
  },
  {
   "cell_type": "code",
   "execution_count": 10,
   "id": "757a569f",
   "metadata": {},
   "outputs": [
    {
     "data": {
      "text/html": [
       "<div>\n",
       "<style scoped>\n",
       "    .dataframe tbody tr th:only-of-type {\n",
       "        vertical-align: middle;\n",
       "    }\n",
       "\n",
       "    .dataframe tbody tr th {\n",
       "        vertical-align: top;\n",
       "    }\n",
       "\n",
       "    .dataframe thead th {\n",
       "        text-align: right;\n",
       "    }\n",
       "</style>\n",
       "<table border=\"1\" class=\"dataframe\">\n",
       "  <thead>\n",
       "    <tr style=\"text-align: right;\">\n",
       "      <th></th>\n",
       "      <th>measure_value</th>\n",
       "      <th>frequency</th>\n",
       "    </tr>\n",
       "  </thead>\n",
       "  <tbody>\n",
       "    <tr>\n",
       "      <th>0</th>\n",
       "      <td>0.0</td>\n",
       "      <td>572</td>\n",
       "    </tr>\n",
       "    <tr>\n",
       "      <th>1</th>\n",
       "      <td>401.0</td>\n",
       "      <td>433</td>\n",
       "    </tr>\n",
       "    <tr>\n",
       "      <th>2</th>\n",
       "      <td>117.0</td>\n",
       "      <td>390</td>\n",
       "    </tr>\n",
       "    <tr>\n",
       "      <th>3</th>\n",
       "      <td>118.0</td>\n",
       "      <td>346</td>\n",
       "    </tr>\n",
       "    <tr>\n",
       "      <th>4</th>\n",
       "      <td>123.0</td>\n",
       "      <td>342</td>\n",
       "    </tr>\n",
       "    <tr>\n",
       "      <th>5</th>\n",
       "      <td>122.0</td>\n",
       "      <td>331</td>\n",
       "    </tr>\n",
       "    <tr>\n",
       "      <th>6</th>\n",
       "      <td>126.0</td>\n",
       "      <td>326</td>\n",
       "    </tr>\n",
       "    <tr>\n",
       "      <th>7</th>\n",
       "      <td>120.0</td>\n",
       "      <td>323</td>\n",
       "    </tr>\n",
       "    <tr>\n",
       "      <th>8</th>\n",
       "      <td>115.0</td>\n",
       "      <td>319</td>\n",
       "    </tr>\n",
       "    <tr>\n",
       "      <th>9</th>\n",
       "      <td>108.0</td>\n",
       "      <td>319</td>\n",
       "    </tr>\n",
       "  </tbody>\n",
       "</table>\n",
       "</div>"
      ],
      "text/plain": [
       "   measure_value  frequency\n",
       "0            0.0        572\n",
       "1          401.0        433\n",
       "2          117.0        390\n",
       "3          118.0        346\n",
       "4          123.0        342\n",
       "5          122.0        331\n",
       "6          126.0        326\n",
       "7          120.0        323\n",
       "8          115.0        319\n",
       "9          108.0        319"
      ]
     },
     "execution_count": 10,
     "metadata": {},
     "output_type": "execute_result"
    }
   ],
   "source": [
    "query_str = \"\"\"\n",
    "SELECT TOP(10)\n",
    "  measure_value,\n",
    "  COUNT(*) AS frequency\n",
    "FROM user_logs\n",
    "GROUP BY measure_value\n",
    "ORDER BY frequency DESC;\n",
    "\"\"\"\n",
    "pd.read_sql(query_str, connection)"
   ]
  },
  {
   "cell_type": "markdown",
   "id": "55d30474",
   "metadata": {},
   "source": [
    "`Systolic column`"
   ]
  },
  {
   "cell_type": "code",
   "execution_count": 11,
   "id": "9f47d49d",
   "metadata": {},
   "outputs": [
    {
     "data": {
      "text/html": [
       "<div>\n",
       "<style scoped>\n",
       "    .dataframe tbody tr th:only-of-type {\n",
       "        vertical-align: middle;\n",
       "    }\n",
       "\n",
       "    .dataframe tbody tr th {\n",
       "        vertical-align: top;\n",
       "    }\n",
       "\n",
       "    .dataframe thead th {\n",
       "        text-align: right;\n",
       "    }\n",
       "</style>\n",
       "<table border=\"1\" class=\"dataframe\">\n",
       "  <thead>\n",
       "    <tr style=\"text-align: right;\">\n",
       "      <th></th>\n",
       "      <th>systolic</th>\n",
       "      <th>frequency</th>\n",
       "    </tr>\n",
       "  </thead>\n",
       "  <tbody>\n",
       "    <tr>\n",
       "      <th>0</th>\n",
       "      <td>NaN</td>\n",
       "      <td>26023</td>\n",
       "    </tr>\n",
       "    <tr>\n",
       "      <th>1</th>\n",
       "      <td>0.0</td>\n",
       "      <td>15451</td>\n",
       "    </tr>\n",
       "    <tr>\n",
       "      <th>2</th>\n",
       "      <td>120.0</td>\n",
       "      <td>71</td>\n",
       "    </tr>\n",
       "    <tr>\n",
       "      <th>3</th>\n",
       "      <td>123.0</td>\n",
       "      <td>70</td>\n",
       "    </tr>\n",
       "    <tr>\n",
       "      <th>4</th>\n",
       "      <td>128.0</td>\n",
       "      <td>66</td>\n",
       "    </tr>\n",
       "    <tr>\n",
       "      <th>5</th>\n",
       "      <td>127.0</td>\n",
       "      <td>64</td>\n",
       "    </tr>\n",
       "    <tr>\n",
       "      <th>6</th>\n",
       "      <td>119.0</td>\n",
       "      <td>60</td>\n",
       "    </tr>\n",
       "    <tr>\n",
       "      <th>7</th>\n",
       "      <td>130.0</td>\n",
       "      <td>60</td>\n",
       "    </tr>\n",
       "    <tr>\n",
       "      <th>8</th>\n",
       "      <td>135.0</td>\n",
       "      <td>57</td>\n",
       "    </tr>\n",
       "    <tr>\n",
       "      <th>9</th>\n",
       "      <td>136.0</td>\n",
       "      <td>55</td>\n",
       "    </tr>\n",
       "  </tbody>\n",
       "</table>\n",
       "</div>"
      ],
      "text/plain": [
       "   systolic  frequency\n",
       "0       NaN      26023\n",
       "1       0.0      15451\n",
       "2     120.0         71\n",
       "3     123.0         70\n",
       "4     128.0         66\n",
       "5     127.0         64\n",
       "6     119.0         60\n",
       "7     130.0         60\n",
       "8     135.0         57\n",
       "9     136.0         55"
      ]
     },
     "execution_count": 11,
     "metadata": {},
     "output_type": "execute_result"
    }
   ],
   "source": [
    "query_str = \"\"\"\n",
    "SELECT TOP(10)\n",
    "  systolic,\n",
    "  COUNT(*) AS frequency\n",
    "FROM user_logs\n",
    "GROUP BY systolic\n",
    "ORDER BY frequency DESC;\n",
    "\"\"\"\n",
    "pd.read_sql(query_str, connection)"
   ]
  },
  {
   "cell_type": "markdown",
   "id": "452e58b7",
   "metadata": {},
   "source": [
    "There are many null and zero values. We'll explore this later."
   ]
  },
  {
   "cell_type": "markdown",
   "id": "b38524ee",
   "metadata": {},
   "source": [
    "`Diastolic column`"
   ]
  },
  {
   "cell_type": "code",
   "execution_count": 12,
   "id": "27e9ebca",
   "metadata": {
    "scrolled": true
   },
   "outputs": [
    {
     "data": {
      "text/html": [
       "<div>\n",
       "<style scoped>\n",
       "    .dataframe tbody tr th:only-of-type {\n",
       "        vertical-align: middle;\n",
       "    }\n",
       "\n",
       "    .dataframe tbody tr th {\n",
       "        vertical-align: top;\n",
       "    }\n",
       "\n",
       "    .dataframe thead th {\n",
       "        text-align: right;\n",
       "    }\n",
       "</style>\n",
       "<table border=\"1\" class=\"dataframe\">\n",
       "  <thead>\n",
       "    <tr style=\"text-align: right;\">\n",
       "      <th></th>\n",
       "      <th>diastolic</th>\n",
       "      <th>frequency</th>\n",
       "    </tr>\n",
       "  </thead>\n",
       "  <tbody>\n",
       "    <tr>\n",
       "      <th>0</th>\n",
       "      <td>NaN</td>\n",
       "      <td>26023</td>\n",
       "    </tr>\n",
       "    <tr>\n",
       "      <th>1</th>\n",
       "      <td>0.0</td>\n",
       "      <td>15449</td>\n",
       "    </tr>\n",
       "    <tr>\n",
       "      <th>2</th>\n",
       "      <td>80.0</td>\n",
       "      <td>156</td>\n",
       "    </tr>\n",
       "    <tr>\n",
       "      <th>3</th>\n",
       "      <td>79.0</td>\n",
       "      <td>124</td>\n",
       "    </tr>\n",
       "    <tr>\n",
       "      <th>4</th>\n",
       "      <td>81.0</td>\n",
       "      <td>119</td>\n",
       "    </tr>\n",
       "    <tr>\n",
       "      <th>5</th>\n",
       "      <td>78.0</td>\n",
       "      <td>110</td>\n",
       "    </tr>\n",
       "    <tr>\n",
       "      <th>6</th>\n",
       "      <td>77.0</td>\n",
       "      <td>109</td>\n",
       "    </tr>\n",
       "    <tr>\n",
       "      <th>7</th>\n",
       "      <td>73.0</td>\n",
       "      <td>109</td>\n",
       "    </tr>\n",
       "    <tr>\n",
       "      <th>8</th>\n",
       "      <td>83.0</td>\n",
       "      <td>106</td>\n",
       "    </tr>\n",
       "    <tr>\n",
       "      <th>9</th>\n",
       "      <td>76.0</td>\n",
       "      <td>102</td>\n",
       "    </tr>\n",
       "  </tbody>\n",
       "</table>\n",
       "</div>"
      ],
      "text/plain": [
       "   diastolic  frequency\n",
       "0        NaN      26023\n",
       "1        0.0      15449\n",
       "2       80.0        156\n",
       "3       79.0        124\n",
       "4       81.0        119\n",
       "5       78.0        110\n",
       "6       77.0        109\n",
       "7       73.0        109\n",
       "8       83.0        106\n",
       "9       76.0        102"
      ]
     },
     "execution_count": 12,
     "metadata": {},
     "output_type": "execute_result"
    }
   ],
   "source": [
    "query_str = \"\"\"\n",
    "SELECT  TOP(10)\n",
    "  diastolic,\n",
    "  COUNT(*) AS frequency\n",
    "FROM user_logs\n",
    "GROUP BY diastolic\n",
    "ORDER BY frequency DESC;\n",
    "\"\"\"\n",
    "pd.read_sql(query_str, connection)"
   ]
  },
  {
   "cell_type": "markdown",
   "id": "be492904",
   "metadata": {},
   "source": [
    "This is somewhat similar output if compared to systolic column."
   ]
  },
  {
   "cell_type": "markdown",
   "id": "fa5f71fd",
   "metadata": {},
   "source": [
    "## Deep dive into the specific values"
   ]
  },
  {
   "cell_type": "markdown",
   "id": "0a7123dc",
   "metadata": {},
   "source": [
    "Since there are many 0 values in the measure_value column and some large number of nulls in systolic, diastolic. \n",
    "\n",
    "Let's take a look to see if the measure_value = 0 only when there is a specific measure value. We can use the WHERE clause here."
   ]
  },
  {
   "cell_type": "code",
   "execution_count": 13,
   "id": "75a86bdc",
   "metadata": {},
   "outputs": [
    {
     "data": {
      "text/html": [
       "<div>\n",
       "<style scoped>\n",
       "    .dataframe tbody tr th:only-of-type {\n",
       "        vertical-align: middle;\n",
       "    }\n",
       "\n",
       "    .dataframe tbody tr th {\n",
       "        vertical-align: top;\n",
       "    }\n",
       "\n",
       "    .dataframe thead th {\n",
       "        text-align: right;\n",
       "    }\n",
       "</style>\n",
       "<table border=\"1\" class=\"dataframe\">\n",
       "  <thead>\n",
       "    <tr style=\"text-align: right;\">\n",
       "      <th></th>\n",
       "      <th>measure</th>\n",
       "      <th>frequency</th>\n",
       "    </tr>\n",
       "  </thead>\n",
       "  <tbody>\n",
       "    <tr>\n",
       "      <th>0</th>\n",
       "      <td>blood_pressure</td>\n",
       "      <td>562</td>\n",
       "    </tr>\n",
       "    <tr>\n",
       "      <th>1</th>\n",
       "      <td>blood_glucose</td>\n",
       "      <td>8</td>\n",
       "    </tr>\n",
       "    <tr>\n",
       "      <th>2</th>\n",
       "      <td>weight</td>\n",
       "      <td>2</td>\n",
       "    </tr>\n",
       "  </tbody>\n",
       "</table>\n",
       "</div>"
      ],
      "text/plain": [
       "          measure  frequency\n",
       "0  blood_pressure        562\n",
       "1   blood_glucose          8\n",
       "2          weight          2"
      ]
     },
     "execution_count": 13,
     "metadata": {},
     "output_type": "execute_result"
    }
   ],
   "source": [
    "query_str = \"\"\"\n",
    "SELECT \n",
    "  measure,\n",
    "  COUNT(*) AS frequency\n",
    "FROM user_logs\n",
    "WHERE measure_value = 0\n",
    "GROUP BY measure\n",
    "ORDER BY frequency DESC;\n",
    "\"\"\"\n",
    "pd.read_sql(query_str, connection)"
   ]
  },
  {
   "cell_type": "code",
   "execution_count": 14,
   "id": "872374fb",
   "metadata": {},
   "outputs": [
    {
     "data": {
      "text/html": [
       "<div>\n",
       "<style scoped>\n",
       "    .dataframe tbody tr th:only-of-type {\n",
       "        vertical-align: middle;\n",
       "    }\n",
       "\n",
       "    .dataframe tbody tr th {\n",
       "        vertical-align: top;\n",
       "    }\n",
       "\n",
       "    .dataframe thead th {\n",
       "        text-align: right;\n",
       "    }\n",
       "</style>\n",
       "<table border=\"1\" class=\"dataframe\">\n",
       "  <thead>\n",
       "    <tr style=\"text-align: right;\">\n",
       "      <th></th>\n",
       "      <th>measure</th>\n",
       "      <th>frequency</th>\n",
       "      <th>percentage</th>\n",
       "    </tr>\n",
       "  </thead>\n",
       "  <tbody>\n",
       "    <tr>\n",
       "      <th>0</th>\n",
       "      <td>blood_glucose</td>\n",
       "      <td>38692</td>\n",
       "      <td>88.15</td>\n",
       "    </tr>\n",
       "    <tr>\n",
       "      <th>1</th>\n",
       "      <td>weight</td>\n",
       "      <td>2782</td>\n",
       "      <td>6.34</td>\n",
       "    </tr>\n",
       "    <tr>\n",
       "      <th>2</th>\n",
       "      <td>blood_pressure</td>\n",
       "      <td>2417</td>\n",
       "      <td>5.51</td>\n",
       "    </tr>\n",
       "  </tbody>\n",
       "</table>\n",
       "</div>"
      ],
      "text/plain": [
       "          measure  frequency  percentage\n",
       "0   blood_glucose      38692       88.15\n",
       "1          weight       2782        6.34\n",
       "2  blood_pressure       2417        5.51"
      ]
     },
     "execution_count": 14,
     "metadata": {},
     "output_type": "execute_result"
    }
   ],
   "source": [
    "query_str = \"\"\"\n",
    "SELECT \n",
    "  measure,\n",
    "  COUNT(*) AS frequency,\n",
    "  ROUND(100.0* COUNT(*)/SUM(COUNT(*)) OVER(),\n",
    "  2) AS percentage\n",
    "FROM user_logs\n",
    "GROUP BY measure\n",
    "ORDER BY frequency DESC;\n",
    "\"\"\"\n",
    "pd.read_sql(query_str, connection)"
   ]
  },
  {
   "cell_type": "markdown",
   "id": "52fe55fe",
   "metadata": {},
   "source": [
    "It appears that `measure_value` = 0 when the `measure` is blood_pressure.\n",
    "\n",
    "Let's explore further."
   ]
  },
  {
   "cell_type": "code",
   "execution_count": 15,
   "id": "8037f5b0",
   "metadata": {},
   "outputs": [
    {
     "data": {
      "text/html": [
       "<div>\n",
       "<style scoped>\n",
       "    .dataframe tbody tr th:only-of-type {\n",
       "        vertical-align: middle;\n",
       "    }\n",
       "\n",
       "    .dataframe tbody tr th {\n",
       "        vertical-align: top;\n",
       "    }\n",
       "\n",
       "    .dataframe thead th {\n",
       "        text-align: right;\n",
       "    }\n",
       "</style>\n",
       "<table border=\"1\" class=\"dataframe\">\n",
       "  <thead>\n",
       "    <tr style=\"text-align: right;\">\n",
       "      <th></th>\n",
       "      <th>measure</th>\n",
       "      <th>measure_value</th>\n",
       "      <th>systolic</th>\n",
       "      <th>diastolic</th>\n",
       "    </tr>\n",
       "  </thead>\n",
       "  <tbody>\n",
       "    <tr>\n",
       "      <th>0</th>\n",
       "      <td>blood_pressure</td>\n",
       "      <td>0.0</td>\n",
       "      <td>115.0</td>\n",
       "      <td>76.0</td>\n",
       "    </tr>\n",
       "    <tr>\n",
       "      <th>1</th>\n",
       "      <td>blood_pressure</td>\n",
       "      <td>0.0</td>\n",
       "      <td>115.0</td>\n",
       "      <td>76.0</td>\n",
       "    </tr>\n",
       "    <tr>\n",
       "      <th>2</th>\n",
       "      <td>blood_pressure</td>\n",
       "      <td>0.0</td>\n",
       "      <td>105.0</td>\n",
       "      <td>70.0</td>\n",
       "    </tr>\n",
       "    <tr>\n",
       "      <th>3</th>\n",
       "      <td>blood_pressure</td>\n",
       "      <td>0.0</td>\n",
       "      <td>136.0</td>\n",
       "      <td>87.0</td>\n",
       "    </tr>\n",
       "    <tr>\n",
       "      <th>4</th>\n",
       "      <td>blood_pressure</td>\n",
       "      <td>0.0</td>\n",
       "      <td>164.0</td>\n",
       "      <td>84.0</td>\n",
       "    </tr>\n",
       "    <tr>\n",
       "      <th>5</th>\n",
       "      <td>blood_pressure</td>\n",
       "      <td>0.0</td>\n",
       "      <td>190.0</td>\n",
       "      <td>94.0</td>\n",
       "    </tr>\n",
       "    <tr>\n",
       "      <th>6</th>\n",
       "      <td>blood_pressure</td>\n",
       "      <td>0.0</td>\n",
       "      <td>125.0</td>\n",
       "      <td>79.0</td>\n",
       "    </tr>\n",
       "    <tr>\n",
       "      <th>7</th>\n",
       "      <td>blood_pressure</td>\n",
       "      <td>0.0</td>\n",
       "      <td>136.0</td>\n",
       "      <td>84.0</td>\n",
       "    </tr>\n",
       "    <tr>\n",
       "      <th>8</th>\n",
       "      <td>blood_pressure</td>\n",
       "      <td>0.0</td>\n",
       "      <td>135.0</td>\n",
       "      <td>89.0</td>\n",
       "    </tr>\n",
       "    <tr>\n",
       "      <th>9</th>\n",
       "      <td>blood_pressure</td>\n",
       "      <td>0.0</td>\n",
       "      <td>138.0</td>\n",
       "      <td>85.0</td>\n",
       "    </tr>\n",
       "  </tbody>\n",
       "</table>\n",
       "</div>"
      ],
      "text/plain": [
       "          measure  measure_value  systolic  diastolic\n",
       "0  blood_pressure            0.0     115.0       76.0\n",
       "1  blood_pressure            0.0     115.0       76.0\n",
       "2  blood_pressure            0.0     105.0       70.0\n",
       "3  blood_pressure            0.0     136.0       87.0\n",
       "4  blood_pressure            0.0     164.0       84.0\n",
       "5  blood_pressure            0.0     190.0       94.0\n",
       "6  blood_pressure            0.0     125.0       79.0\n",
       "7  blood_pressure            0.0     136.0       84.0\n",
       "8  blood_pressure            0.0     135.0       89.0\n",
       "9  blood_pressure            0.0     138.0       85.0"
      ]
     },
     "execution_count": 15,
     "metadata": {},
     "output_type": "execute_result"
    }
   ],
   "source": [
    "query_str = \"\"\"\n",
    "SELECT TOP(10)\n",
    "  measure,\n",
    "  measure_value,\n",
    "  systolic,\n",
    "  diastolic\n",
    "FROM user_logs\n",
    "WHERE measure = 'blood_pressure'\n",
    "AND measure_value = 0;\n",
    "\"\"\"\n",
    "pd.read_sql(query_str, connection)"
   ]
  },
  {
   "cell_type": "markdown",
   "id": "9fadd5f6",
   "metadata": {},
   "source": [
    "It appears that when blood_pressure is measured, the systolic and diastolic columns are populated but the measure_value is blank. \n",
    "\n",
    "Lets explore when the measure is blood_pressure but measure_value!=0."
   ]
  },
  {
   "cell_type": "code",
   "execution_count": 16,
   "id": "050269df",
   "metadata": {},
   "outputs": [
    {
     "data": {
      "text/html": [
       "<div>\n",
       "<style scoped>\n",
       "    .dataframe tbody tr th:only-of-type {\n",
       "        vertical-align: middle;\n",
       "    }\n",
       "\n",
       "    .dataframe tbody tr th {\n",
       "        vertical-align: top;\n",
       "    }\n",
       "\n",
       "    .dataframe thead th {\n",
       "        text-align: right;\n",
       "    }\n",
       "</style>\n",
       "<table border=\"1\" class=\"dataframe\">\n",
       "  <thead>\n",
       "    <tr style=\"text-align: right;\">\n",
       "      <th></th>\n",
       "      <th>measure</th>\n",
       "      <th>measure_value</th>\n",
       "      <th>systolic</th>\n",
       "      <th>diastolic</th>\n",
       "    </tr>\n",
       "  </thead>\n",
       "  <tbody>\n",
       "    <tr>\n",
       "      <th>0</th>\n",
       "      <td>blood_pressure</td>\n",
       "      <td>140.0</td>\n",
       "      <td>140.0</td>\n",
       "      <td>113.0</td>\n",
       "    </tr>\n",
       "    <tr>\n",
       "      <th>1</th>\n",
       "      <td>blood_pressure</td>\n",
       "      <td>114.0</td>\n",
       "      <td>114.0</td>\n",
       "      <td>80.0</td>\n",
       "    </tr>\n",
       "    <tr>\n",
       "      <th>2</th>\n",
       "      <td>blood_pressure</td>\n",
       "      <td>132.0</td>\n",
       "      <td>132.0</td>\n",
       "      <td>94.0</td>\n",
       "    </tr>\n",
       "    <tr>\n",
       "      <th>3</th>\n",
       "      <td>blood_pressure</td>\n",
       "      <td>105.0</td>\n",
       "      <td>105.0</td>\n",
       "      <td>68.0</td>\n",
       "    </tr>\n",
       "    <tr>\n",
       "      <th>4</th>\n",
       "      <td>blood_pressure</td>\n",
       "      <td>149.0</td>\n",
       "      <td>149.0</td>\n",
       "      <td>85.0</td>\n",
       "    </tr>\n",
       "    <tr>\n",
       "      <th>5</th>\n",
       "      <td>blood_pressure</td>\n",
       "      <td>156.0</td>\n",
       "      <td>156.0</td>\n",
       "      <td>88.0</td>\n",
       "    </tr>\n",
       "    <tr>\n",
       "      <th>6</th>\n",
       "      <td>blood_pressure</td>\n",
       "      <td>142.0</td>\n",
       "      <td>142.0</td>\n",
       "      <td>84.0</td>\n",
       "    </tr>\n",
       "    <tr>\n",
       "      <th>7</th>\n",
       "      <td>blood_pressure</td>\n",
       "      <td>131.0</td>\n",
       "      <td>131.0</td>\n",
       "      <td>71.0</td>\n",
       "    </tr>\n",
       "    <tr>\n",
       "      <th>8</th>\n",
       "      <td>blood_pressure</td>\n",
       "      <td>128.0</td>\n",
       "      <td>128.0</td>\n",
       "      <td>77.0</td>\n",
       "    </tr>\n",
       "    <tr>\n",
       "      <th>9</th>\n",
       "      <td>blood_pressure</td>\n",
       "      <td>114.0</td>\n",
       "      <td>114.0</td>\n",
       "      <td>76.0</td>\n",
       "    </tr>\n",
       "  </tbody>\n",
       "</table>\n",
       "</div>"
      ],
      "text/plain": [
       "          measure  measure_value  systolic  diastolic\n",
       "0  blood_pressure          140.0     140.0      113.0\n",
       "1  blood_pressure          114.0     114.0       80.0\n",
       "2  blood_pressure          132.0     132.0       94.0\n",
       "3  blood_pressure          105.0     105.0       68.0\n",
       "4  blood_pressure          149.0     149.0       85.0\n",
       "5  blood_pressure          156.0     156.0       88.0\n",
       "6  blood_pressure          142.0     142.0       84.0\n",
       "7  blood_pressure          131.0     131.0       71.0\n",
       "8  blood_pressure          128.0     128.0       77.0\n",
       "9  blood_pressure          114.0     114.0       76.0"
      ]
     },
     "execution_count": 16,
     "metadata": {},
     "output_type": "execute_result"
    }
   ],
   "source": [
    "query_str = \"\"\"\n",
    "SELECT TOP(10)\n",
    "  measure,\n",
    "  measure_value,\n",
    "  systolic,\n",
    "  diastolic\n",
    "FROM user_logs\n",
    "WHERE measure = 'blood_pressure'\n",
    "AND measure_value is NOT NULL\n",
    "\"\"\"\n",
    "pd.read_sql(query_str, connection)"
   ]
  },
  {
   "cell_type": "markdown",
   "id": "9efac4a4",
   "metadata": {},
   "source": [
    "So, it looks like whenever blood_pressure is measured, measure_value is populated with systolic and sometimes it is equal to 0.\n",
    "\n",
    "Let's check the same for the null values of systolic and diastolic."
   ]
  },
  {
   "cell_type": "code",
   "execution_count": 17,
   "id": "26fc38da",
   "metadata": {},
   "outputs": [
    {
     "data": {
      "text/html": [
       "<div>\n",
       "<style scoped>\n",
       "    .dataframe tbody tr th:only-of-type {\n",
       "        vertical-align: middle;\n",
       "    }\n",
       "\n",
       "    .dataframe tbody tr th {\n",
       "        vertical-align: top;\n",
       "    }\n",
       "\n",
       "    .dataframe thead th {\n",
       "        text-align: right;\n",
       "    }\n",
       "</style>\n",
       "<table border=\"1\" class=\"dataframe\">\n",
       "  <thead>\n",
       "    <tr style=\"text-align: right;\">\n",
       "      <th></th>\n",
       "      <th>measure</th>\n",
       "      <th></th>\n",
       "    </tr>\n",
       "  </thead>\n",
       "  <tbody>\n",
       "    <tr>\n",
       "      <th>0</th>\n",
       "      <td>weight</td>\n",
       "      <td>443</td>\n",
       "    </tr>\n",
       "    <tr>\n",
       "      <th>1</th>\n",
       "      <td>blood_glucose</td>\n",
       "      <td>25580</td>\n",
       "    </tr>\n",
       "  </tbody>\n",
       "</table>\n",
       "</div>"
      ],
      "text/plain": [
       "         measure       \n",
       "0         weight    443\n",
       "1  blood_glucose  25580"
      ]
     },
     "execution_count": 17,
     "metadata": {},
     "output_type": "execute_result"
    }
   ],
   "source": [
    "query_str = \"\"\"\n",
    "SELECT TOP(10)\n",
    "  measure,\n",
    "  count(*)\n",
    "FROM user_logs\n",
    "WHERE systolic is NULL\n",
    "GROUP BY measure\n",
    "\"\"\"\n",
    "pd.read_sql(query_str, connection)"
   ]
  },
  {
   "cell_type": "markdown",
   "id": "74a68f57",
   "metadata": {},
   "source": [
    "This confirms that systolic only has non-null values when `measure` = **blood_pressure**. \n",
    "\n",
    "Let's see if it is similiar for the diastolic column."
   ]
  },
  {
   "cell_type": "code",
   "execution_count": 18,
   "id": "6bcce84d",
   "metadata": {},
   "outputs": [
    {
     "data": {
      "text/html": [
       "<div>\n",
       "<style scoped>\n",
       "    .dataframe tbody tr th:only-of-type {\n",
       "        vertical-align: middle;\n",
       "    }\n",
       "\n",
       "    .dataframe tbody tr th {\n",
       "        vertical-align: top;\n",
       "    }\n",
       "\n",
       "    .dataframe thead th {\n",
       "        text-align: right;\n",
       "    }\n",
       "</style>\n",
       "<table border=\"1\" class=\"dataframe\">\n",
       "  <thead>\n",
       "    <tr style=\"text-align: right;\">\n",
       "      <th></th>\n",
       "      <th>measure</th>\n",
       "      <th></th>\n",
       "    </tr>\n",
       "  </thead>\n",
       "  <tbody>\n",
       "    <tr>\n",
       "      <th>0</th>\n",
       "      <td>weight</td>\n",
       "      <td>443</td>\n",
       "    </tr>\n",
       "    <tr>\n",
       "      <th>1</th>\n",
       "      <td>blood_glucose</td>\n",
       "      <td>25580</td>\n",
       "    </tr>\n",
       "  </tbody>\n",
       "</table>\n",
       "</div>"
      ],
      "text/plain": [
       "         measure       \n",
       "0         weight    443\n",
       "1  blood_glucose  25580"
      ]
     },
     "execution_count": 18,
     "metadata": {},
     "output_type": "execute_result"
    }
   ],
   "source": [
    "query_str = \"\"\"\n",
    "SELECT TOP(10)\n",
    "  measure,\n",
    "  count(*)\n",
    "FROM user_logs\n",
    "WHERE diastolic is NULL\n",
    "GROUP BY measure;\n",
    "\"\"\"\n",
    "pd.read_sql(query_str, connection)"
   ]
  },
  {
   "cell_type": "markdown",
   "id": "55e683ed",
   "metadata": {},
   "source": [
    "Non-null values are only present when ``measure='blood_pressure'``."
   ]
  },
  {
   "cell_type": "markdown",
   "id": "922d64a6",
   "metadata": {},
   "source": [
    "---"
   ]
  },
  {
   "cell_type": "markdown",
   "id": "a1a69bef",
   "metadata": {},
   "source": [
    "**Close connection**"
   ]
  },
  {
   "cell_type": "code",
   "execution_count": 19,
   "id": "05c82a82",
   "metadata": {},
   "outputs": [],
   "source": [
    "# Close the database connection\n",
    "connection.close()"
   ]
  },
  {
   "cell_type": "markdown",
   "id": "de04bb53",
   "metadata": {},
   "source": [
    "---"
   ]
  },
  {
   "cell_type": "markdown",
   "id": "096775e8",
   "metadata": {},
   "source": [
    "<a id=\"Question_7\"></a>"
   ]
  },
  {
   "cell_type": "markdown",
   "id": "cfb8ecd5",
   "metadata": {},
   "source": [
    "<a id=\"Question_8\"></a>"
   ]
  },
  {
   "cell_type": "markdown",
   "id": "39404da2",
   "metadata": {},
   "source": [
    "<a id=\"Question_9\"></a>"
   ]
  }
 ],
 "metadata": {
  "kernelspec": {
   "display_name": "Python 3 (ipykernel)",
   "language": "python",
   "name": "python3"
  },
  "language_info": {
   "codemirror_mode": {
    "name": "ipython",
    "version": 3
   },
   "file_extension": ".py",
   "mimetype": "text/x-python",
   "name": "python",
   "nbconvert_exporter": "python",
   "pygments_lexer": "ipython3",
   "version": "3.11.5"
  },
  "toc": {
   "base_numbering": 1,
   "nav_menu": {},
   "number_sections": true,
   "sideBar": true,
   "skip_h1_title": false,
   "title_cell": "Table of Contents",
   "title_sidebar": "Contents",
   "toc_cell": false,
   "toc_position": {
    "height": "calc(100% - 180px)",
    "left": "10px",
    "top": "150px",
    "width": "297.1px"
   },
   "toc_section_display": true,
   "toc_window_display": true
  },
  "varInspector": {
   "cols": {
    "lenName": 16,
    "lenType": 16,
    "lenVar": 40
   },
   "kernels_config": {
    "python": {
     "delete_cmd_postfix": "",
     "delete_cmd_prefix": "del ",
     "library": "var_list.py",
     "varRefreshCmd": "print(var_dic_list())"
    },
    "r": {
     "delete_cmd_postfix": ") ",
     "delete_cmd_prefix": "rm(",
     "library": "var_list.r",
     "varRefreshCmd": "cat(var_dic_list()) "
    }
   },
   "position": {
    "height": "347.85px",
    "left": "1032.2px",
    "right": "20px",
    "top": "186px",
    "width": "318.4px"
   },
   "types_to_exclude": [
    "module",
    "function",
    "builtin_function_or_method",
    "instance",
    "_Feature"
   ],
   "window_display": false
  }
 },
 "nbformat": 4,
 "nbformat_minor": 5
}
